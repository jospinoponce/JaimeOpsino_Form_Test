{
 "cells": [
  {
   "cell_type": "code",
   "execution_count": 1,
   "metadata": {},
   "outputs": [],
   "source": [
    "import pandas as pd"
   ]
  },
  {
   "attachments": {},
   "cell_type": "markdown",
   "metadata": {},
   "source": [
    "# Exploratory Data Analysis"
   ]
  },
  {
   "cell_type": "code",
   "execution_count": 2,
   "metadata": {},
   "outputs": [],
   "source": [
    "cotizacion=pd.read_csv(\"data/origen/COTIZACION_ITEM_VIEW.csv\")\n",
    "proyectos=pd.read_csv(\"data/origen/PROYECTOS_VIEW.csv\")"
   ]
  },
  {
   "cell_type": "code",
   "execution_count": 3,
   "metadata": {},
   "outputs": [
    {
     "data": {
      "text/html": [
       "<div>\n",
       "<style scoped>\n",
       "    .dataframe tbody tr th:only-of-type {\n",
       "        vertical-align: middle;\n",
       "    }\n",
       "\n",
       "    .dataframe tbody tr th {\n",
       "        vertical-align: top;\n",
       "    }\n",
       "\n",
       "    .dataframe thead th {\n",
       "        text-align: right;\n",
       "    }\n",
       "</style>\n",
       "<table border=\"1\" class=\"dataframe\">\n",
       "  <thead>\n",
       "    <tr style=\"text-align: right;\">\n",
       "      <th></th>\n",
       "      <th>ID_COTIZ_ITEM</th>\n",
       "      <th>PRECIO_LISTA</th>\n",
       "      <th>PRECIO_ADICIONAL</th>\n",
       "      <th>PRECIO_VENTA</th>\n",
       "      <th>APLICA_PRECIO_ADICIONAL</th>\n",
       "      <th>ID_BIEN</th>\n",
       "      <th>ID_COTIZACION</th>\n",
       "      <th>ID_USUARIO</th>\n",
       "      <th>VERSION</th>\n",
       "      <th>PRECIO_IVA</th>\n",
       "      <th>APLICA_PRECIO_IVA</th>\n",
       "    </tr>\n",
       "  </thead>\n",
       "  <tbody>\n",
       "    <tr>\n",
       "      <th>0</th>\n",
       "      <td>1</td>\n",
       "      <td>4029.00</td>\n",
       "      <td>NaN</td>\n",
       "      <td>3908.1300</td>\n",
       "      <td>NaN</td>\n",
       "      <td>4</td>\n",
       "      <td>1</td>\n",
       "      <td>NaN</td>\n",
       "      <td>0</td>\n",
       "      <td>0.0</td>\n",
       "      <td>0.0</td>\n",
       "    </tr>\n",
       "    <tr>\n",
       "      <th>1</th>\n",
       "      <td>2</td>\n",
       "      <td>4149.87</td>\n",
       "      <td>NaN</td>\n",
       "      <td>4025.3739</td>\n",
       "      <td>NaN</td>\n",
       "      <td>4</td>\n",
       "      <td>2</td>\n",
       "      <td>NaN</td>\n",
       "      <td>0</td>\n",
       "      <td>0.0</td>\n",
       "      <td>0.0</td>\n",
       "    </tr>\n",
       "    <tr>\n",
       "      <th>2</th>\n",
       "      <td>3</td>\n",
       "      <td>2794.00</td>\n",
       "      <td>NaN</td>\n",
       "      <td>2794.0000</td>\n",
       "      <td>NaN</td>\n",
       "      <td>433</td>\n",
       "      <td>3</td>\n",
       "      <td>NaN</td>\n",
       "      <td>0</td>\n",
       "      <td>0.0</td>\n",
       "      <td>0.0</td>\n",
       "    </tr>\n",
       "  </tbody>\n",
       "</table>\n",
       "</div>"
      ],
      "text/plain": [
       "   ID_COTIZ_ITEM  PRECIO_LISTA  PRECIO_ADICIONAL  PRECIO_VENTA  \\\n",
       "0              1       4029.00               NaN     3908.1300   \n",
       "1              2       4149.87               NaN     4025.3739   \n",
       "2              3       2794.00               NaN     2794.0000   \n",
       "\n",
       "   APLICA_PRECIO_ADICIONAL  ID_BIEN  ID_COTIZACION  ID_USUARIO  VERSION  \\\n",
       "0                      NaN        4              1         NaN        0   \n",
       "1                      NaN        4              2         NaN        0   \n",
       "2                      NaN      433              3         NaN        0   \n",
       "\n",
       "   PRECIO_IVA  APLICA_PRECIO_IVA  \n",
       "0         0.0                0.0  \n",
       "1         0.0                0.0  \n",
       "2         0.0                0.0  "
      ]
     },
     "execution_count": 3,
     "metadata": {},
     "output_type": "execute_result"
    }
   ],
   "source": [
    "cotizacion.head(3)"
   ]
  },
  {
   "cell_type": "code",
   "execution_count": 4,
   "metadata": {},
   "outputs": [
    {
     "data": {
      "text/html": [
       "<div>\n",
       "<style scoped>\n",
       "    .dataframe tbody tr th:only-of-type {\n",
       "        vertical-align: middle;\n",
       "    }\n",
       "\n",
       "    .dataframe tbody tr th {\n",
       "        vertical-align: top;\n",
       "    }\n",
       "\n",
       "    .dataframe thead th {\n",
       "        text-align: right;\n",
       "    }\n",
       "</style>\n",
       "<table border=\"1\" class=\"dataframe\">\n",
       "  <thead>\n",
       "    <tr style=\"text-align: right;\">\n",
       "      <th></th>\n",
       "      <th>ID_PROYECTO</th>\n",
       "      <th>RUT_PROYECTO</th>\n",
       "      <th>RUT_PROYECTO_PROMESA</th>\n",
       "      <th>NOM_PROYECTO</th>\n",
       "      <th>NOM_LEGAL</th>\n",
       "      <th>NOM_LEGAL_PROMESA</th>\n",
       "      <th>NOMBRE_BANCO</th>\n",
       "      <th>ACTIVO</th>\n",
       "      <th>HORARIO_ATENCION_PROYECTO</th>\n",
       "      <th>CTACTE</th>\n",
       "      <th>...</th>\n",
       "      <th>DESCRIPCION</th>\n",
       "      <th>URL_LOGO</th>\n",
       "      <th>URL_IMAGEN_1</th>\n",
       "      <th>URL_IMAGEN_2</th>\n",
       "      <th>URL_IMAGEN_3</th>\n",
       "      <th>ELIMINADO</th>\n",
       "      <th>FECHA_REGISTRO_PROYECTO</th>\n",
       "      <th>DIVIDENDO_ANIOS1</th>\n",
       "      <th>DIVIDENDO_ANIOS2</th>\n",
       "      <th>DIVIDENDO_ANIOS3</th>\n",
       "    </tr>\n",
       "  </thead>\n",
       "  <tbody>\n",
       "    <tr>\n",
       "      <th>0</th>\n",
       "      <td>1</td>\n",
       "      <td>76326025-9</td>\n",
       "      <td>76326025-9</td>\n",
       "      <td>MARCHA BLANCA</td>\n",
       "      <td>INMOBILIARIA MARCHA BLANCA</td>\n",
       "      <td>INMOBILIARIA MARCHA BLANCA</td>\n",
       "      <td>BANCO DEL DESARROLLO</td>\n",
       "      <td>1</td>\n",
       "      <td>1</td>\n",
       "      <td>3424234.0</td>\n",
       "      <td>...</td>\n",
       "      <td>NaN</td>\n",
       "      <td>ifai/proyectos/1/archivos/MARCHABLANCA_LOGO.png</td>\n",
       "      <td>ifai/proyectos/1/archivos/MARCHABLANCA_IMAGEN-...</td>\n",
       "      <td>NaN</td>\n",
       "      <td>NaN</td>\n",
       "      <td>0</td>\n",
       "      <td>2020-01-23 00:44:03</td>\n",
       "      <td>25</td>\n",
       "      <td>20</td>\n",
       "      <td>30</td>\n",
       "    </tr>\n",
       "    <tr>\n",
       "      <th>1</th>\n",
       "      <td>2</td>\n",
       "      <td>76.761.005-K</td>\n",
       "      <td>76.761.005-K</td>\n",
       "      <td>ORIGEN</td>\n",
       "      <td>INMOBILIARIA SANTA CRISTINA SPA</td>\n",
       "      <td>INMOBILIARIA SANTA CRISTINA SPA</td>\n",
       "      <td>BANCO SECURITY</td>\n",
       "      <td>1</td>\n",
       "      <td>1</td>\n",
       "      <td>916840023.0</td>\n",
       "      <td>...</td>\n",
       "      <td>NaN</td>\n",
       "      <td>ifai/proyectos/2/archivos/ORIGEN_LOGO.jpg</td>\n",
       "      <td>NaN</td>\n",
       "      <td>NaN</td>\n",
       "      <td>NaN</td>\n",
       "      <td>0</td>\n",
       "      <td>2018-04-20 00:00:00</td>\n",
       "      <td>25</td>\n",
       "      <td>20</td>\n",
       "      <td>30</td>\n",
       "    </tr>\n",
       "    <tr>\n",
       "      <th>2</th>\n",
       "      <td>3</td>\n",
       "      <td>76.618.549-5</td>\n",
       "      <td>76.618.549-5</td>\n",
       "      <td>COLIFE</td>\n",
       "      <td>INMOBILIARIA GENERAL JOFRE SPA</td>\n",
       "      <td>INMOBILIARIA GENERAL JOFRE SPA</td>\n",
       "      <td>BANCO SECURITY</td>\n",
       "      <td>1</td>\n",
       "      <td>1</td>\n",
       "      <td>916215565.0</td>\n",
       "      <td>...</td>\n",
       "      <td>NaN</td>\n",
       "      <td>ifai/proyectos/3/archivos/COLIFE_LOGO.jpg</td>\n",
       "      <td>NaN</td>\n",
       "      <td>NaN</td>\n",
       "      <td>NaN</td>\n",
       "      <td>0</td>\n",
       "      <td>2017-12-08 00:00:00</td>\n",
       "      <td>25</td>\n",
       "      <td>20</td>\n",
       "      <td>30</td>\n",
       "    </tr>\n",
       "  </tbody>\n",
       "</table>\n",
       "<p>3 rows × 50 columns</p>\n",
       "</div>"
      ],
      "text/plain": [
       "   ID_PROYECTO  RUT_PROYECTO RUT_PROYECTO_PROMESA   NOM_PROYECTO  \\\n",
       "0            1    76326025-9           76326025-9  MARCHA BLANCA   \n",
       "1            2  76.761.005-K         76.761.005-K         ORIGEN   \n",
       "2            3  76.618.549-5         76.618.549-5         COLIFE   \n",
       "\n",
       "                         NOM_LEGAL                NOM_LEGAL_PROMESA  \\\n",
       "0       INMOBILIARIA MARCHA BLANCA       INMOBILIARIA MARCHA BLANCA   \n",
       "1  INMOBILIARIA SANTA CRISTINA SPA  INMOBILIARIA SANTA CRISTINA SPA   \n",
       "2   INMOBILIARIA GENERAL JOFRE SPA   INMOBILIARIA GENERAL JOFRE SPA   \n",
       "\n",
       "           NOMBRE_BANCO  ACTIVO  HORARIO_ATENCION_PROYECTO       CTACTE  ...  \\\n",
       "0  BANCO DEL DESARROLLO       1                          1    3424234.0  ...   \n",
       "1        BANCO SECURITY       1                          1  916840023.0  ...   \n",
       "2        BANCO SECURITY       1                          1  916215565.0  ...   \n",
       "\n",
       "  DESCRIPCION                                         URL_LOGO  \\\n",
       "0         NaN  ifai/proyectos/1/archivos/MARCHABLANCA_LOGO.png   \n",
       "1         NaN        ifai/proyectos/2/archivos/ORIGEN_LOGO.jpg   \n",
       "2         NaN        ifai/proyectos/3/archivos/COLIFE_LOGO.jpg   \n",
       "\n",
       "                                        URL_IMAGEN_1  URL_IMAGEN_2  \\\n",
       "0  ifai/proyectos/1/archivos/MARCHABLANCA_IMAGEN-...           NaN   \n",
       "1                                                NaN           NaN   \n",
       "2                                                NaN           NaN   \n",
       "\n",
       "  URL_IMAGEN_3  ELIMINADO  FECHA_REGISTRO_PROYECTO DIVIDENDO_ANIOS1  \\\n",
       "0          NaN          0      2020-01-23 00:44:03               25   \n",
       "1          NaN          0      2018-04-20 00:00:00               25   \n",
       "2          NaN          0      2017-12-08 00:00:00               25   \n",
       "\n",
       "   DIVIDENDO_ANIOS2 DIVIDENDO_ANIOS3  \n",
       "0                20               30  \n",
       "1                20               30  \n",
       "2                20               30  \n",
       "\n",
       "[3 rows x 50 columns]"
      ]
     },
     "execution_count": 4,
     "metadata": {},
     "output_type": "execute_result"
    }
   ],
   "source": [
    "proyectos.head(3)"
   ]
  },
  {
   "attachments": {},
   "cell_type": "markdown",
   "metadata": {},
   "source": [
    "No existe una variable que pueda hacer relación entre los dos Dataframes como lo plateaba la actividad. "
   ]
  },
  {
   "attachments": {},
   "cell_type": "markdown",
   "metadata": {},
   "source": [
    "## Transformaciones"
   ]
  },
  {
   "attachments": {},
   "cell_type": "markdown",
   "metadata": {},
   "source": [
    "**Proyectos**"
   ]
  },
  {
   "attachments": {},
   "cell_type": "markdown",
   "metadata": {},
   "source": [
    "Se eliminan variables que no son relevantes para el objetivo de la actividad:\n"
   ]
  },
  {
   "cell_type": "code",
   "execution_count": 5,
   "metadata": {},
   "outputs": [
    {
     "data": {
      "text/plain": [
       "Index(['ID_PROYECTO', 'RUT_PROYECTO', 'RUT_PROYECTO_PROMESA', 'NOM_PROYECTO',\n",
       "       'NOM_LEGAL', 'NOM_LEGAL_PROMESA', 'NOMBRE_BANCO', 'ACTIVO',\n",
       "       'HORARIO_ATENCION_PROYECTO', 'CTACTE', 'CALLE', 'CIUDAD',\n",
       "       'CODIGO_POSTAL', 'REGION', 'COMUNA', 'NUM_EXTERIOR', 'NUM_INTERIOR',\n",
       "       'PAIS', 'REFERENCIA', 'HORARIO_ATENCION', 'FECHA_ESCRITURA',\n",
       "       'FECHA_INICIO', 'FECHA_TERMINO', 'PORCENTAJE_AVANCE',\n",
       "       'PORCENTAJE_MULTA', 'EVALUACION_PLANA', 'EMPRESA_ASEGURADORA',\n",
       "       'MONTO_POLIZA_SEGURO', 'PRECIO_VENTA_OBJETIVO_PONDERADO',\n",
       "       'PRECIO_VENTA_OBJETIVO_UTIL', 'SUBSIDIO', 'TASA', 'TASA_HIP',\n",
       "       'TELEFONO2', 'TELEFONO1', 'TELEFONO_AMC', 'EMAIL', 'EMAIL_2',\n",
       "       'SITIO_WEB', 'VERSION', 'DESCRIPCION', 'URL_LOGO', 'URL_IMAGEN_1',\n",
       "       'URL_IMAGEN_2', 'URL_IMAGEN_3', 'ELIMINADO', 'FECHA_REGISTRO_PROYECTO',\n",
       "       'DIVIDENDO_ANIOS1', 'DIVIDENDO_ANIOS2', 'DIVIDENDO_ANIOS3'],\n",
       "      dtype='object')"
      ]
     },
     "execution_count": 5,
     "metadata": {},
     "output_type": "execute_result"
    }
   ],
   "source": [
    "proyectos.columns"
   ]
  },
  {
   "cell_type": "code",
   "execution_count": 6,
   "metadata": {},
   "outputs": [],
   "source": [
    "# Las columnas 'RUT_PROYECTO_PROMESA' muestra un patrón de tener los mismos datos que 'RUT_PROYECTO'\n",
    "# Se eliminan  las columnas que no tengan datos\n",
    "\n",
    "proyectos = proyectos.drop(['RUT_PROYECTO_PROMESA','CODIGO_POSTAL','REGION', \n",
    "       'EVALUACION_PLANA', 'EMPRESA_ASEGURADORA','MONTO_POLIZA_SEGURO',\n",
    "     'REFERENCIA','NUM_EXTERIOR','NUM_INTERIOR',\n",
    "     'DESCRIPCION', 'URL_LOGO', 'URL_IMAGEN_1',\n",
    "    'URL_IMAGEN_2', 'URL_IMAGEN_3','ELIMINADO'], axis=1)"
   ]
  },
  {
   "cell_type": "code",
   "execution_count": 7,
   "metadata": {},
   "outputs": [
    {
     "data": {
      "text/plain": [
       "<b><font face=\"Arial\" size=\"2\">Horario de atención:</font></b><div><font face=\"Arial\" size=\"2\"><span style=\"caret-color: rgb(80, 80, 80); text-size-adjust: auto; background-color: rgb(253, 253, 253);\">Lunes a<span class=\"Apple-converted-space\">&nbsp;Domingo&nbsp;</span></span><span style=\"text-size-adjust: auto; background-color: rgb(253, 253, 253);\"><span style=\"caret-color: rgb(80, 80, 80);\">de 10:00 a 19:00 horas.</span><br></span></font></div>                                                                                                                                                                                                                                                                                                                                                                                                                     10\n",
       "<b><font face=\"Arial\" size=\"2\">Horario de atención:</font></b><div><font face=\"Arial\" size=\"2\"><span style=\"caret-color: rgb(80, 80, 80); text-size-adjust: auto; background-color: rgb(253, 253, 253);\"><b>Lunes a<span class=\"Apple-converted-space\">&nbsp;Domingo&nbsp;</span></b></span><span style=\"text-size-adjust: auto; background-color: rgb(253, 253, 253);\"><span style=\"caret-color: rgb(80, 80, 80);\"><b>de 10:00 a 19:00 horas.</b></span><br></span></font></div>                                                                                                                                                                                                                                                                                                                                                                                                        3\n",
       "<b><font face=\"Arial\" size=\"2\">Horario de atención:</font></b><div><font face=\"Arial\" size=\"2\"><span style=\"caret-color: rgb(80, 80, 80); text-size-adjust: auto; background-color: rgb(253, 253, 253);\">Lunes a<span class=\"Apple-converted-space\">&nbsp;Domingo&nbsp;</span></span><span style=\"text-size-adjust: auto; background-color: rgb(253, 253, 253);\"><span style=\"caret-color: rgb(80, 80, 80);\">de 10:30 a 19:30 horas.</span><br></span></font></div>                                                                                                                                                                                                                                                                                                                                                                                                                      1\n",
       "<div><div><b><font face=\"Arial\" size=\"2\">Horario de atención:</font></b><div><font face=\"Arial\" size=\"2\"><span style=\"caret-color: rgb(80, 80, 80); text-size-adjust: auto; background-color: rgb(253, 253, 253);\">Lunes a<span class=\"Apple-converted-space\">&nbsp;Domingo&nbsp;</span></span><span style=\"text-size-adjust: auto; background-color: rgb(253, 253, 253);\"><span style=\"caret-color: rgb(80, 80, 80);\">de 10:30 a 19:30 horas.</span></span></font></div></div></div>                                                                                                                                                                                                                                                                                                                                                                                                    1\n",
       "<b><font =\"arial\"=\"\" size=\"2\">Horario de atención:</font></b><div><font =\"arial\"=\"\" size=\"2\"><span style=\"caret-color: rgb(80, 80, 80); text-size-adjust: auto; background-color: rgb(253, 253, 253);\"><b>Lunes a<span class=\"Apple-converted-space\">&nbsp;Domingo&nbsp;</span></b></span><span style=\"text-size-adjust: auto; background-color: rgb(253, 253, 253);\"><span style=\"caret-color: rgb(80, 80, 80);\"><b>de 10:00 a 19:00 horas.</b></span><br></span></font></div><div><font =\"arial\"=\"\" size=\"2\"><span style=\"text-size-adjust: auto; background-color: rgb(253, 253, 253);\"><span style=\"caret-color: rgb(80, 80, 80);\"><b><br></b></span></span></font></div><div><font =\"arial\"=\"\" size=\"2\"><span style=\"text-size-adjust: auto; background-color: rgb(253, 253, 253);\"><span style=\"caret-color: rgb(80, 80, 80);\"><b>Te esperamos.</b></span></span></font></div>     1\n",
       "<b><font =\"arial\"=\"\" size=\"2\">Horario de atención:</font></b><div><font =\"arial\"=\"\" size=\"2\"><span style=\"caret-color: rgb(80, 80, 80); text-size-adjust: auto; background-color: rgb(253, 253, 253);\"><b>Lunes a<span class=\"Apple-converted-space\">&nbsp;Domingo&nbsp;</span></b></span><span style=\"text-size-adjust: auto; background-color: rgb(253, 253, 253);\"><span style=\"caret-color: rgb(80, 80, 80);\"><b>de 10:00 a 19:00 horas.</b></span></span></font></div>                                                                                                                                                                                                                                                                                                                                                                                                              1\n",
       "<b><font size=\"2\" =\"arial\"=\"\">Horario de atención:</font></b><div><font size=\"2\" =\"arial\"=\"\"><span style=\"caret-color: rgb(80, 80, 80); text-size-adjust: auto; background-color: rgb(253, 253, 253);\">Lunes a<span class=\"Apple-converted-space\">&nbsp;Domingo&nbsp;</span></span><span style=\"text-size-adjust: auto; background-color: rgb(253, 253, 253);\"><span style=\"caret-color: rgb(80, 80, 80);\">de 10:00 a 19:00 horas.</span><br></span></font></div>                                                                                                                                                                                                                                                                                                                                                                                                                        1\n",
       "<b><font =\"arial\"=\"\" size=\"2\">Horario de atención:</font></b><div><font =\"arial\"=\"\" size=\"2\"><span style=\"caret-color: rgb(80, 80, 80); text-size-adjust: auto; background-color: rgb(253, 253, 253);\"><b>Lunes a<span class=\"Apple-converted-space\">&nbsp;Domingo&nbsp;</span></b></span><span style=\"text-size-adjust: auto; background-color: rgb(253, 253, 253);\"><span style=\"caret-color: rgb(80, 80, 80);\"><b>de 10:00 a 19:00 horas.</b></span><br></span></font></div>                                                                                                                                                                                                                                                                                                                                                                                                          1\n",
       "<table border=\"0\" cellpadding=\"0\" cellspacing=\"0\" width=\"400\" style=\"border-collapse:\\n collapse;width:300pt\"><tbody><tr height=\"21\" style=\"height:15.75pt\">\\n  <td height=\"21\" class=\"xl63\" width=\"400\" style=\"height:15.75pt;width:300pt\">Lunes a\\n  Viernes&nbsp; de 10:00 a 18:30 horas.</td></tr></tbody></table>                                                                                                                                                                                                                                                                                                                                                                                                                                                                                                                                                                   1\n",
       "<table border=\"0\" cellpadding=\"0\" cellspacing=\"0\" width=\"261\" style=\"border-collapse:\\n collapse;width:196pt\"><tbody><tr height=\"21\" style=\"height:16.0pt\">\\n  <td height=\"21\" class=\"xl67\" width=\"261\" style=\"height:16.0pt;width:196pt\">Lunes a\\n  Viernes de 10:00 a 19:00 horas</td></tr></tbody></table>                                                                                                                                                                                                                                                                                                                                                                                                                                                                                                                                                                            1\n",
       "Lunes a Viernes de 9:00 a 19:00 horas                                                                                                                                                                                                                                                                                                                                                                                                                                                                                                                                                                                                                                                                                                                                                                                                                                                    1\n",
       "Name: HORARIO_ATENCION, dtype: int64"
      ]
     },
     "execution_count": 7,
     "metadata": {},
     "output_type": "execute_result"
    }
   ],
   "source": [
    "proyectos.HORARIO_ATENCION.value_counts()"
   ]
  },
  {
   "attachments": {},
   "cell_type": "markdown",
   "metadata": {},
   "source": [
    "Para la columna 'HORARIO_ATENCION' Se le da un rango horario que abarque a los diferentes horarios de attención existentes .. \n",
    "este es de 10:30 a 18:30 horas"
   ]
  },
  {
   "cell_type": "code",
   "execution_count": 8,
   "metadata": {},
   "outputs": [
    {
     "data": {
      "text/plain": [
       "lunes a domingo 10:30 a 18:30 horas    19\n",
       "lunes a viernes 10:30 a 18:30 horas     3\n",
       "Name: HORARIO_ATENCION, dtype: int64"
      ]
     },
     "execution_count": 8,
     "metadata": {},
     "output_type": "execute_result"
    }
   ],
   "source": [
    "# se modifica los valores a string\n",
    "proyectos.HORARIO_ATENCION=proyectos.HORARIO_ATENCION.astype(str)\n",
    "\n",
    "# se categoriza los valores\n",
    "proyectos.HORARIO_ATENCION = proyectos.HORARIO_ATENCION.apply(lambda x:\"lunes a domingo 10:30 a 18:30 horas\" \n",
    "if \"Domingo\" in x else (\"lunes a viernes 10:30 a 18:30 horas\" if \"Viernes\" in x else None))\n",
    "\n",
    "proyectos.HORARIO_ATENCION.value_counts()"
   ]
  },
  {
   "cell_type": "code",
   "execution_count": null,
   "metadata": {},
   "outputs": [],
   "source": [
    "\n",
    "\n",
    "\n"
   ]
  },
  {
   "cell_type": "code",
   "execution_count": 9,
   "metadata": {},
   "outputs": [
    {
     "data": {
      "text/plain": [
       "Index(['ID_PROYECTO', 'RUT_PROYECTO', 'NOM_PROYECTO', 'NOM_LEGAL',\n",
       "       'NOM_LEGAL_PROMESA', 'NOMBRE_BANCO', 'ACTIVO',\n",
       "       'HORARIO_ATENCION_PROYECTO', 'CTACTE', 'CALLE', 'CIUDAD', 'COMUNA',\n",
       "       'PAIS', 'HORARIO_ATENCION', 'FECHA_ESCRITURA', 'FECHA_INICIO',\n",
       "       'FECHA_TERMINO', 'PORCENTAJE_AVANCE', 'PORCENTAJE_MULTA',\n",
       "       'PRECIO_VENTA_OBJETIVO_PONDERADO', 'PRECIO_VENTA_OBJETIVO_UTIL',\n",
       "       'SUBSIDIO', 'TASA', 'TASA_HIP', 'TELEFONO2', 'TELEFONO1',\n",
       "       'TELEFONO_AMC', 'EMAIL', 'EMAIL_2', 'SITIO_WEB', 'VERSION',\n",
       "       'FECHA_REGISTRO_PROYECTO', 'DIVIDENDO_ANIOS1', 'DIVIDENDO_ANIOS2',\n",
       "       'DIVIDENDO_ANIOS3'],\n",
       "      dtype='object')"
      ]
     },
     "execution_count": 9,
     "metadata": {},
     "output_type": "execute_result"
    }
   ],
   "source": [
    "proyectos.columns"
   ]
  },
  {
   "cell_type": "code",
   "execution_count": null,
   "metadata": {},
   "outputs": [],
   "source": []
  },
  {
   "cell_type": "code",
   "execution_count": null,
   "metadata": {},
   "outputs": [],
   "source": []
  },
  {
   "cell_type": "code",
   "execution_count": null,
   "metadata": {},
   "outputs": [],
   "source": []
  },
  {
   "cell_type": "code",
   "execution_count": null,
   "metadata": {},
   "outputs": [],
   "source": []
  }
 ],
 "metadata": {
  "kernelspec": {
   "display_name": "base",
   "language": "python",
   "name": "python3"
  },
  "language_info": {
   "codemirror_mode": {
    "name": "ipython",
    "version": 3
   },
   "file_extension": ".py",
   "mimetype": "text/x-python",
   "name": "python",
   "nbconvert_exporter": "python",
   "pygments_lexer": "ipython3",
   "version": "3.9.13"
  },
  "orig_nbformat": 4
 },
 "nbformat": 4,
 "nbformat_minor": 2
}
